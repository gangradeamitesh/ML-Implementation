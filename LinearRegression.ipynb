{
 "cells": [
  {
   "cell_type": "code",
   "execution_count": 45,
   "metadata": {},
   "outputs": [],
   "source": [
    "import pandas as pd\n",
    "import numpy as np\n",
    "import matplotlib.pyplot as plt"
   ]
  },
  {
   "cell_type": "code",
   "execution_count": 46,
   "metadata": {},
   "outputs": [
    {
     "name": "stderr",
     "output_type": "stream",
     "text": [
      "<>:8: SyntaxWarning: invalid escape sequence '\\s'\n",
      "<>:8: SyntaxWarning: invalid escape sequence '\\s'\n",
      "/var/folders/dk/tjnpf39s7hlg1p0995rnt6t40000gn/T/ipykernel_48027/2325054334.py:8: SyntaxWarning: invalid escape sequence '\\s'\n",
      "  raw_df = pd.read_csv(self.url, sep=\"\\s+\", skiprows=22, header=None)\n"
     ]
    }
   ],
   "source": [
    "class BostonHousingDataset:\n",
    "    def __init__(self):\n",
    "        self.url = \"http://lib.stat.cmu.edu/datasets/boston\"\n",
    "        self.feature_names = [\"CRIM\", \"ZN\", \"INDUS\", \"CHAS\", \"NOX\", \"RM\", \"AGE\", \"DIS\", \"RAD\", \"TAX\", \"PTRATIO\", \"B\", \"LSTAT\"]\n",
    "\n",
    "    def load_dataset(self):\n",
    "        # Fetch data from URL\n",
    "        raw_df = pd.read_csv(self.url, sep=\"\\s+\", skiprows=22, header=None)\n",
    "        data = np.hstack([raw_df.values[::2, :], raw_df.values[1::2, :2]])\n",
    "        target = raw_df.values[1::2, 2]\n",
    "\n",
    "        # Create the dictionary in sklearn format\n",
    "        dataset = {\n",
    "            'data': [],\n",
    "            'target': [],\n",
    "            'feature_names': self.feature_names,\n",
    "            'DESCR': 'Boston House Prices dataset'\n",
    "        }\n",
    "\n",
    "        dataset['data'] = data\n",
    "        dataset['target'] = target\n",
    "\n",
    "        return dataset"
   ]
  },
  {
   "cell_type": "code",
   "execution_count": 47,
   "metadata": {},
   "outputs": [
    {
     "data": {
      "text/plain": [
       "(dict_keys(['data', 'target', 'feature_names', 'DESCR']),\n",
       " 'Boston House Prices dataset')"
      ]
     },
     "execution_count": 47,
     "metadata": {},
     "output_type": "execute_result"
    }
   ],
   "source": [
    "boston_housing = BostonHousingDataset()\n",
    "boston_dataset = boston_housing.load_dataset()\n",
    "boston_dataset.keys(), boston_dataset['DESCR']"
   ]
  },
  {
   "cell_type": "code",
   "execution_count": 48,
   "metadata": {},
   "outputs": [
    {
     "data": {
      "text/html": [
       "<div>\n",
       "<style scoped>\n",
       "    .dataframe tbody tr th:only-of-type {\n",
       "        vertical-align: middle;\n",
       "    }\n",
       "\n",
       "    .dataframe tbody tr th {\n",
       "        vertical-align: top;\n",
       "    }\n",
       "\n",
       "    .dataframe thead th {\n",
       "        text-align: right;\n",
       "    }\n",
       "</style>\n",
       "<table border=\"1\" class=\"dataframe\">\n",
       "  <thead>\n",
       "    <tr style=\"text-align: right;\">\n",
       "      <th></th>\n",
       "      <th>CRIM</th>\n",
       "      <th>ZN</th>\n",
       "      <th>INDUS</th>\n",
       "      <th>CHAS</th>\n",
       "      <th>NOX</th>\n",
       "      <th>RM</th>\n",
       "      <th>AGE</th>\n",
       "      <th>DIS</th>\n",
       "      <th>RAD</th>\n",
       "      <th>TAX</th>\n",
       "      <th>PTRATIO</th>\n",
       "      <th>B</th>\n",
       "      <th>LSTAT</th>\n",
       "      <th>TARGET</th>\n",
       "    </tr>\n",
       "  </thead>\n",
       "  <tbody>\n",
       "    <tr>\n",
       "      <th>0</th>\n",
       "      <td>0.00632</td>\n",
       "      <td>18.0</td>\n",
       "      <td>2.31</td>\n",
       "      <td>0.0</td>\n",
       "      <td>0.538</td>\n",
       "      <td>6.575</td>\n",
       "      <td>65.2</td>\n",
       "      <td>4.0900</td>\n",
       "      <td>1.0</td>\n",
       "      <td>296.0</td>\n",
       "      <td>15.3</td>\n",
       "      <td>396.90</td>\n",
       "      <td>4.98</td>\n",
       "      <td>24.0</td>\n",
       "    </tr>\n",
       "    <tr>\n",
       "      <th>1</th>\n",
       "      <td>0.02731</td>\n",
       "      <td>0.0</td>\n",
       "      <td>7.07</td>\n",
       "      <td>0.0</td>\n",
       "      <td>0.469</td>\n",
       "      <td>6.421</td>\n",
       "      <td>78.9</td>\n",
       "      <td>4.9671</td>\n",
       "      <td>2.0</td>\n",
       "      <td>242.0</td>\n",
       "      <td>17.8</td>\n",
       "      <td>396.90</td>\n",
       "      <td>9.14</td>\n",
       "      <td>21.6</td>\n",
       "    </tr>\n",
       "    <tr>\n",
       "      <th>2</th>\n",
       "      <td>0.02729</td>\n",
       "      <td>0.0</td>\n",
       "      <td>7.07</td>\n",
       "      <td>0.0</td>\n",
       "      <td>0.469</td>\n",
       "      <td>7.185</td>\n",
       "      <td>61.1</td>\n",
       "      <td>4.9671</td>\n",
       "      <td>2.0</td>\n",
       "      <td>242.0</td>\n",
       "      <td>17.8</td>\n",
       "      <td>392.83</td>\n",
       "      <td>4.03</td>\n",
       "      <td>34.7</td>\n",
       "    </tr>\n",
       "    <tr>\n",
       "      <th>3</th>\n",
       "      <td>0.03237</td>\n",
       "      <td>0.0</td>\n",
       "      <td>2.18</td>\n",
       "      <td>0.0</td>\n",
       "      <td>0.458</td>\n",
       "      <td>6.998</td>\n",
       "      <td>45.8</td>\n",
       "      <td>6.0622</td>\n",
       "      <td>3.0</td>\n",
       "      <td>222.0</td>\n",
       "      <td>18.7</td>\n",
       "      <td>394.63</td>\n",
       "      <td>2.94</td>\n",
       "      <td>33.4</td>\n",
       "    </tr>\n",
       "    <tr>\n",
       "      <th>4</th>\n",
       "      <td>0.06905</td>\n",
       "      <td>0.0</td>\n",
       "      <td>2.18</td>\n",
       "      <td>0.0</td>\n",
       "      <td>0.458</td>\n",
       "      <td>7.147</td>\n",
       "      <td>54.2</td>\n",
       "      <td>6.0622</td>\n",
       "      <td>3.0</td>\n",
       "      <td>222.0</td>\n",
       "      <td>18.7</td>\n",
       "      <td>396.90</td>\n",
       "      <td>5.33</td>\n",
       "      <td>36.2</td>\n",
       "    </tr>\n",
       "  </tbody>\n",
       "</table>\n",
       "</div>"
      ],
      "text/plain": [
       "      CRIM    ZN  INDUS  CHAS    NOX     RM   AGE     DIS  RAD    TAX  \\\n",
       "0  0.00632  18.0   2.31   0.0  0.538  6.575  65.2  4.0900  1.0  296.0   \n",
       "1  0.02731   0.0   7.07   0.0  0.469  6.421  78.9  4.9671  2.0  242.0   \n",
       "2  0.02729   0.0   7.07   0.0  0.469  7.185  61.1  4.9671  2.0  242.0   \n",
       "3  0.03237   0.0   2.18   0.0  0.458  6.998  45.8  6.0622  3.0  222.0   \n",
       "4  0.06905   0.0   2.18   0.0  0.458  7.147  54.2  6.0622  3.0  222.0   \n",
       "\n",
       "   PTRATIO       B  LSTAT  TARGET  \n",
       "0     15.3  396.90   4.98    24.0  \n",
       "1     17.8  396.90   9.14    21.6  \n",
       "2     17.8  392.83   4.03    34.7  \n",
       "3     18.7  394.63   2.94    33.4  \n",
       "4     18.7  396.90   5.33    36.2  "
      ]
     },
     "execution_count": 48,
     "metadata": {},
     "output_type": "execute_result"
    }
   ],
   "source": [
    "boston = pd.DataFrame(boston_dataset['data'], columns=boston_dataset['feature_names'])\n",
    "boston['TARGET'] = boston_dataset['target']\n",
    "boston.head()"
   ]
  },
  {
   "cell_type": "code",
   "execution_count": 49,
   "metadata": {},
   "outputs": [],
   "source": [
    "X = boston.drop(\"TARGET\" , axis=1)\n",
    "y = boston[\"TARGET\"]"
   ]
  },
  {
   "cell_type": "code",
   "execution_count": 50,
   "metadata": {},
   "outputs": [],
   "source": [
    "from sklearn.preprocessing import StandardScaler\n",
    "import random"
   ]
  },
  {
   "cell_type": "code",
   "execution_count": 78,
   "metadata": {},
   "outputs": [],
   "source": [
    "\n",
    "class LinearRegression:\n",
    "\n",
    "    def __init__(self , learning_rate , iterations) -> None:\n",
    "\n",
    "        self.learning_rate = learning_rate\n",
    "        self.iterations = iterations\n",
    "        self.W = None\n",
    "        self.b = None\n",
    "        self.scaler = StandardScaler()\n",
    "  \n",
    "    def fit(self , X , y , initialze_type):\n",
    "\n",
    "        #X_scaled = self.scaler.fit_transform(X)\n",
    "        X_scaled = self.scale(X)\n",
    "        #X_scaled = X\n",
    "        #m -> number of data entry in the dataset \n",
    "        #n -> Features in the dataset -> 13\n",
    "        m , n = X_scaled.shape\n",
    "\n",
    "        self.W , self.b = self.initialize_weight(n , initialze_type)\n",
    "\n",
    "        for iterator in range(1 , self.iterations + 1):\n",
    "\n",
    "            y_predicted = np.dot(X_scaled , self.W) + self.b\n",
    "\n",
    "            dw = (2/m) * np.dot(X_scaled.T , (y_predicted - y))\n",
    "            db = (2/m) * np.sum(y_predicted - y)\n",
    "\n",
    "\n",
    "            self.W -= self.learning_rate * dw\n",
    "            self.b -= self.learning_rate * db\n",
    "\n",
    "            if iterator % 100 == 0:\n",
    "                mean_sq_loss = self.mean_sq_error(y , y_predicted)\n",
    "                mean_absolute_loss = self.mean_abs_error(y , y_predicted)\n",
    "                print(f\"Epoch {iterator} : Mean Square Loss : {mean_sq_loss}\")\n",
    "                print(f\"Epoch {iterator} : Mean Absolute Loss : {mean_absolute_loss}\")\n",
    "                print(f\"Epoch {iterator} : Root Mean Square Loss : {self.root_mean_square_error(y , y_predicted)}\")\n",
    "    def initialize_weight(self , n , type):\n",
    "        if type == \"zero\":\n",
    "            return np.zeros(n) , 0\n",
    "        if type == \"random\":\n",
    "            return np.random.rand(n) , 0\n",
    "    \n",
    "    def predict(self , X):\n",
    "        X = self.scaler.fit_transform(X)\n",
    "        return np.dot(X  , self.W) + self.b\n",
    "\n",
    "    def mean_sq_error(self , actual_y , y_pred):\n",
    "        return np.mean((actual_y - y_pred)**2)\n",
    "    \n",
    "    def mean_abs_error(self, acutal_y , y_pred):\n",
    "        return np.mean(acutal_y - y_pred)\n",
    "    \n",
    "    def root_mean_square_error(self, acutal_y , y_pred):\n",
    "        return np.sqrt((self.mean_sq_error(acutal_y , y_pred)))\n",
    "    \n",
    "    def scale(self, X):\n",
    "        return (X - np.mean(X , axis=0))/np.std(X , axis=0)"
   ]
  },
  {
   "cell_type": "code",
   "execution_count": 79,
   "metadata": {},
   "outputs": [],
   "source": [
    "from sklearn.model_selection import train_test_split\n",
    "\n",
    "X_train , X_test , y_train , y_test = train_test_split(X , y , test_size=0.2 , random_state=42)"
   ]
  },
  {
   "cell_type": "code",
   "execution_count": 80,
   "metadata": {},
   "outputs": [
    {
     "data": {
      "text/plain": [
       "(404, 13)"
      ]
     },
     "execution_count": 80,
     "metadata": {},
     "output_type": "execute_result"
    }
   ],
   "source": [
    "X_train.shape"
   ]
  },
  {
   "cell_type": "code",
   "execution_count": 81,
   "metadata": {},
   "outputs": [
    {
     "data": {
      "text/plain": [
       "(404,)"
      ]
     },
     "execution_count": 81,
     "metadata": {},
     "output_type": "execute_result"
    }
   ],
   "source": [
    "y_train.shape"
   ]
  },
  {
   "cell_type": "code",
   "execution_count": 82,
   "metadata": {},
   "outputs": [],
   "source": [
    "model = LinearRegression(learning_rate=0.01 , iterations=1000)\n"
   ]
  },
  {
   "cell_type": "code",
   "execution_count": 84,
   "metadata": {},
   "outputs": [
    {
     "name": "stdout",
     "output_type": "stream",
     "text": [
      "Epoch 100 : Mean Square Loss : 32.99474749462366\n",
      "Epoch 100 : Mean Absolute Loss : 3.0849656139611508\n",
      "Epoch 100 : Root Mean Square Loss : 5.744105456433026\n",
      "Epoch 200 : Mean Square Loss : 22.644244803295788\n",
      "Epoch 200 : Mean Absolute Loss : 0.4091267696741078\n",
      "Epoch 200 : Root Mean Square Loss : 4.758596936418947\n",
      "Epoch 300 : Mean Square Loss : 22.146148622960265\n",
      "Epoch 300 : Mean Absolute Loss : 0.05425821049883106\n",
      "Epoch 300 : Root Mean Square Loss : 4.705969466853802\n",
      "Epoch 400 : Mean Square Loss : 21.965330944369036\n",
      "Epoch 400 : Mean Absolute Loss : 0.007195699780000066\n",
      "Epoch 400 : Root Mean Square Loss : 4.686718568931682\n",
      "Epoch 500 : Mean Square Loss : 21.860790945662487\n",
      "Epoch 500 : Mean Absolute Loss : 0.000954290509171595\n",
      "Epoch 500 : Root Mean Square Loss : 4.675552474912723\n",
      "Epoch 600 : Mean Square Loss : 21.79572544460893\n",
      "Epoch 600 : Mean Absolute Loss : 0.00012655758352523712\n",
      "Epoch 600 : Root Mean Square Loss : 4.668589234941208\n",
      "Epoch 700 : Mean Square Loss : 21.753147260216608\n",
      "Epoch 700 : Mean Absolute Loss : 1.678401052026139e-05\n",
      "Epoch 700 : Root Mean Square Loss : 4.664026936051786\n",
      "Epoch 800 : Mean Square Loss : 21.724065192780618\n",
      "Epoch 800 : Mean Absolute Loss : 2.225888022327103e-06\n",
      "Epoch 800 : Root Mean Square Loss : 4.660908193987586\n",
      "Epoch 900 : Mean Square Loss : 21.703490621503647\n",
      "Epoch 900 : Mean Absolute Loss : 2.9519628080568154e-07\n",
      "Epoch 900 : Root Mean Square Loss : 4.658700529278915\n",
      "Epoch 1000 : Mean Square Loss : 21.688532354414757\n",
      "Epoch 1000 : Mean Absolute Loss : 3.9148791781508746e-08\n",
      "Epoch 1000 : Root Mean Square Loss : 4.657094840607689\n"
     ]
    }
   ],
   "source": [
    "model = LinearRegression(learning_rate=0.01 , iterations=1000)\n",
    "model.fit(X_train , y_train , initialze_type=\"zero\")"
   ]
  },
  {
   "cell_type": "code",
   "execution_count": 34,
   "metadata": {},
   "outputs": [
    {
     "name": "stdout",
     "output_type": "stream",
     "text": [
      "Mean Absolute Error for Test Data :  -1.3082993209818778\n",
      "Mean Square Error for Test Data :  27.726567814211837\n",
      "Root Mean square Error for Test Data :  5.265602322072171\n"
     ]
    }
   ],
   "source": [
    "y_pred = model.predict(X_test)\n",
    "print(\"Mean Absolute Error for Test Data : \" , model.mean_abs_error(y_test , y_pred))\n",
    "print(\"Mean Square Error for Test Data : \" , model.mean_sq_error(y_test , y_pred))\n",
    "print(\"Root Mean square Error for Test Data : \" , model.root_mean_square_error(y_test , y_pred))"
   ]
  },
  {
   "cell_type": "code",
   "execution_count": null,
   "metadata": {},
   "outputs": [],
   "source": []
  },
  {
   "cell_type": "code",
   "execution_count": null,
   "metadata": {},
   "outputs": [],
   "source": []
  },
  {
   "cell_type": "code",
   "execution_count": null,
   "metadata": {},
   "outputs": [],
   "source": []
  },
  {
   "cell_type": "code",
   "execution_count": null,
   "metadata": {},
   "outputs": [],
   "source": []
  }
 ],
 "metadata": {
  "kernelspec": {
   "display_name": "Python 3",
   "language": "python",
   "name": "python3"
  },
  "language_info": {
   "codemirror_mode": {
    "name": "ipython",
    "version": 3
   },
   "file_extension": ".py",
   "mimetype": "text/x-python",
   "name": "python",
   "nbconvert_exporter": "python",
   "pygments_lexer": "ipython3",
   "version": "3.12.4"
  }
 },
 "nbformat": 4,
 "nbformat_minor": 2
}
